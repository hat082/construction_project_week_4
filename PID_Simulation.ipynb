{
 "cells": [
  {
   "cell_type": "code",
   "execution_count": 2,
   "metadata": {},
   "outputs": [],
   "source": [
    "import numpy as np\n",
    "import matplotlib.pyplot as plt\n",
    "import ipywidgets as widgets"
   ]
  },
  {
   "cell_type": "code",
   "execution_count": 3,
   "metadata": {},
   "outputs": [],
   "source": [
    "class graph:\n",
    "    def __init__(self, x, y, theta):\n",
    "        self.x = x\n",
    "        self.y = y\n",
    "        self.x_points = np.array([x])\n",
    "        self.y_points = np.array([y])\n",
    "        self.theta = theta\n",
    "\n",
    "    def move_forward(self, distance):\n",
    "        self.x += distance * np.cos(np.radians(self.theta))\n",
    "        self.y += distance * np.sin(np.radians(self.theta))\n",
    "        self.x_points = np.append(self.x_points, self.x)\n",
    "        self.y_points = np.append(self.y_points, self.y)\n",
    "\n",
    "    # Function to turn by a certain angle (degrees)\n",
    "    def turn(self, degrees):\n",
    "        self.theta += degrees\n"
   ]
  },
  {
   "cell_type": "code",
   "execution_count": 9,
   "metadata": {},
   "outputs": [],
   "source": [
    "\n",
    "def calculate_error(car, track):\n",
    "    diff = np.sin(np.radians(car.theta + 90)) * (track.x_points - car.x) - np.cos(np.radians(car.theta + 90)) * (track.y_points - car.y)\n",
    "    crossings = np.where(np.diff(np.sign(diff)))[0]\n",
    "    if crossings.size == 0:\n",
    "        return 0\n",
    "    \n",
    "    distances = (track.x_points[crossings] - car.x) ** 2 + (track.y_points[crossings] - car.y) ** 2\n",
    "    shortest_distance_index = np.argmin(distances)\n",
    "    shortest_distance = distances[shortest_distance_index]\n",
    "\n",
    "    if np.abs(shortest_distance) > 1:\n",
    "        return 0\n",
    "    \n",
    "    if track.x_points[crossings][shortest_distance_index] > car.x:\n",
    "        shortest_distance = -shortest_distance\n",
    "    return shortest_distance\n",
    "\n",
    "def PID(kp=10, kd=0, ki=0.1, total_distance = 25, velocity = 1):\n",
    "    # create an instance of the graph class\n",
    "    track = graph(0, 0, 90)\n",
    "\n",
    "    for _ in range(100):\n",
    "        track.move_forward(0.1)\n",
    "    for _ in range(90):\n",
    "        track.turn(-1)\n",
    "        track.move_forward(np.pi / 180 * 10)\n",
    "    # Plot the trajectory\n",
    "\n",
    "    car = graph(0.1, 0, 90)\n",
    "    \n",
    "    num_points = 100 / velocity\n",
    "    omega = 0\n",
    "    error = 0\n",
    "    prev_error = error\n",
    "\n",
    "    error_sum = 0\n",
    "    for _ in range(int(num_points)):\n",
    "        car.theta += omega\n",
    "        error = calculate_error(car, track)\n",
    "        error_sum += error\n",
    "        omega = kp * error + kd * (error - prev_error) + ki * error_sum\n",
    "        car.move_forward(total_distance / num_points)\n",
    "\n",
    "    plt.gca().set_aspect('equal')\n",
    "    plt.grid(True)  # This activates the grid\n",
    "    \n",
    "    plt.plot(track.x_points, track.y_points, label=\"Trajectory\")\n",
    "    plt.plot(car.x_points, car.y_points, label=\"Car\")\n",
    "    plt.show()\n"
   ]
  },
  {
   "cell_type": "code",
   "execution_count": 10,
   "metadata": {},
   "outputs": [
    {
     "data": {
      "application/vnd.jupyter.widget-view+json": {
       "model_id": "3cf1c39e208245d59e02a7035ce65fa4",
       "version_major": 2,
       "version_minor": 0
      },
      "text/plain": [
       "interactive(children=(FloatText(value=10.0, description='kp', step=0.1), FloatText(value=0.01, description='kd…"
      ]
     },
     "metadata": {},
     "output_type": "display_data"
    },
    {
     "data": {
      "text/plain": [
       "<function __main__.PID(kp=10, kd=0, ki=0.1, total_distance=25, velocity=1)>"
      ]
     },
     "execution_count": 10,
     "metadata": {},
     "output_type": "execute_result"
    }
   ],
   "source": [
    "widgets.interact(\n",
    "    PID,\n",
    "    kp=widgets.FloatText(value=10.0, step=0.1),\n",
    "    kd=widgets.FloatText(value=0.01, step=0.1),\n",
    "    ki=widgets.FloatText(value=0.01, step=0.01),\n",
    "    total_distance=widgets.FloatText(value=25, step=0.1),\n",
    "    velocity=widgets.FloatText(value=1, step=0.1),\n",
    ")"
   ]
  }
 ],
 "metadata": {
  "kernelspec": {
   "display_name": "base",
   "language": "python",
   "name": "python3"
  },
  "language_info": {
   "codemirror_mode": {
    "name": "ipython",
    "version": 3
   },
   "file_extension": ".py",
   "mimetype": "text/x-python",
   "name": "python",
   "nbconvert_exporter": "python",
   "pygments_lexer": "ipython3",
   "version": "3.10.9"
  }
 },
 "nbformat": 4,
 "nbformat_minor": 2
}
